{
 "cells": [
  {
   "cell_type": "markdown",
   "metadata": {},
   "source": [
    "# Explore the `#MeToo` anonymous survey data\n",
    "\n",
    "Recently an anonymous survey has been circulating that asks respondants to give some information about moments that they've experienced harassment in their workplace. The results are being collected in [this public google sheet](https://docs.google.com/forms/d/e/1FAIpQLSeqWdpDxVRc-i8OiiClJPluIpjMlM41aUlU2E0rrQ4br_rQmA/viewform).\n",
    "\n",
    "This repository grabs the data from that google sheet and cleans it up a little bit so that you can explore its contents. Below are a few sections showing simple viz of the dataset to give you some inspiration, but there are certainly many more ways one could slice and dice this data!"
   ]
  },
  {
   "cell_type": "code",
   "execution_count": 1,
   "metadata": {},
   "outputs": [],
   "source": [
    "import matplotlib.pyplot as plt\n",
    "import pandas as pd\n",
    "plt.rcParams['figure.figsize'] = (10, 5)\n",
    "%matplotlib inline"
   ]
  },
  {
   "cell_type": "code",
   "execution_count": 2,
   "metadata": {},
   "outputs": [],
   "source": [
    "N_PLOT = 30"
   ]
  },
  {
   "cell_type": "markdown",
   "metadata": {},
   "source": [
    "# Download the data"
   ]
  },
  {
   "cell_type": "code",
   "execution_count": 3,
   "metadata": {},
   "outputs": [
    {
     "name": "stdout",
     "output_type": "stream",
     "text": [
      "Downloading data from https://docs.google.com/spreadsheets/d/1S9KShDLvU7C-KkgEevYTHXr3F6InTenrBsS9yk-8C5M/export?format=csv (1 byte)\n",
      "\n"
     ]
    },
    {
     "name": "stderr",
     "output_type": "stream",
     "text": [
      "file_sizes: 2.15MB [00:00, 4.96MB/s]\n"
     ]
    },
    {
     "name": "stdout",
     "output_type": "stream",
     "text": [
      "Successfully downloaded file to ./data/raw.csv\n"
     ]
    }
   ],
   "source": [
    "# Download / clean up the latest version of the data\n",
    "%run download_data.py"
   ]
  },
  {
   "cell_type": "code",
   "execution_count": 4,
   "metadata": {},
   "outputs": [
    {
     "data": {
      "text/html": [
       "<div>\n",
       "<table border=\"1\" class=\"dataframe\">\n",
       "  <thead>\n",
       "    <tr style=\"text-align: right;\">\n",
       "      <th></th>\n",
       "      <th>institution</th>\n",
       "      <th>field</th>\n",
       "      <th>position</th>\n",
       "      <th>position_perp</th>\n",
       "      <th>institution_type</th>\n",
       "      <th>gender_harasser</th>\n",
       "      <th>description</th>\n",
       "      <th>impact_trajectory</th>\n",
       "      <th>impact_mental_health</th>\n",
       "      <th>impact_career</th>\n",
       "      <th>institute_response</th>\n",
       "      <th>consequences_harasser</th>\n",
       "    </tr>\n",
       "  </thead>\n",
       "  <tbody>\n",
       "    <tr>\n",
       "      <th>0</th>\n",
       "      <td>NaN</td>\n",
       "      <td>history</td>\n",
       "      <td>22</td>\n",
       "      <td>senior grad student, someone who was about to ...</td>\n",
       "      <td>other r1</td>\n",
       "      <td>male</td>\n",
       "      <td>there were rumors (unsubstantiated, just gossi...</td>\n",
       "      <td>makes me more aware of my status and position ...</td>\n",
       "      <td>see above</td>\n",
       "      <td>just self doubt (yay for impostor syndrome</td>\n",
       "      <td>none; i didn’t realize how insulting it was un...</td>\n",
       "      <td>none</td>\n",
       "    </tr>\n",
       "    <tr>\n",
       "      <th>1</th>\n",
       "      <td>york university in toronto and university of l...</td>\n",
       "      <td>history</td>\n",
       "      <td>phd student/assistant professor</td>\n",
       "      <td>at least associate, if not full at that point</td>\n",
       "      <td>more than one institution (feel free to elabor...</td>\n",
       "      <td>male</td>\n",
       "      <td>when i was in grad school a male faculty membe...</td>\n",
       "      <td>NaN</td>\n",
       "      <td>it is one more thing i have to think about, wo...</td>\n",
       "      <td>as a phd student i learned that when senior me...</td>\n",
       "      <td>none</td>\n",
       "      <td>none</td>\n",
       "    </tr>\n",
       "    <tr>\n",
       "      <th>2</th>\n",
       "      <td>NaN</td>\n",
       "      <td>history</td>\n",
       "      <td>assistant professor</td>\n",
       "      <td>full professor</td>\n",
       "      <td>more than one institution (feel free to elabor...</td>\n",
       "      <td>male</td>\n",
       "      <td>a senior colleague made overt sexual comments ...</td>\n",
       "      <td>NaN</td>\n",
       "      <td>NaN</td>\n",
       "      <td>the harasser also later plagiarized my work</td>\n",
       "      <td>none</td>\n",
       "      <td>none</td>\n",
       "    </tr>\n",
       "    <tr>\n",
       "      <th>3</th>\n",
       "      <td>NaN</td>\n",
       "      <td>history</td>\n",
       "      <td>visiting assistant professor</td>\n",
       "      <td>they were a tenured prof at another university</td>\n",
       "      <td>more than one institution (feel free to elabor...</td>\n",
       "      <td>male</td>\n",
       "      <td>kissed on the mouth in front of entire board o...</td>\n",
       "      <td>i left academia, not because of this incident ...</td>\n",
       "      <td>i was mostly annoyed, not scarred, but it made...</td>\n",
       "      <td>no longer wished to be part of that profession...</td>\n",
       "      <td>none</td>\n",
       "      <td>none</td>\n",
       "    </tr>\n",
       "    <tr>\n",
       "      <th>4</th>\n",
       "      <td>university of nebraska</td>\n",
       "      <td>rhetoric and composition</td>\n",
       "      <td>adjunct instructor with half time appointment ...</td>\n",
       "      <td>same. he was a colleague with identical appoin...</td>\n",
       "      <td>other r1</td>\n",
       "      <td>male</td>\n",
       "      <td>stalked, harassed, threatened by a colleague w...</td>\n",
       "      <td>again, inestimable. entirely undid my career t...</td>\n",
       "      <td>impossible to assess. worst thing that has eve...</td>\n",
       "      <td>i was subsequently rif'd and did not work for ...</td>\n",
       "      <td>after i filed an eeoc claim i was placed under...</td>\n",
       "      <td>none</td>\n",
       "    </tr>\n",
       "    <tr>\n",
       "      <th>5</th>\n",
       "      <td>um-st. louis</td>\n",
       "      <td>physics</td>\n",
       "      <td>undergrad ta</td>\n",
       "      <td>random student</td>\n",
       "      <td>r2</td>\n",
       "      <td>male</td>\n",
       "      <td>an email detailing sadomasochistic acts being ...</td>\n",
       "      <td>NaN</td>\n",
       "      <td>random emails make me nervous</td>\n",
       "      <td>NaN</td>\n",
       "      <td>“you don’t want to spoil this nice young man’s...</td>\n",
       "      <td>he was told to go back to his home institution...</td>\n",
       "    </tr>\n",
       "    <tr>\n",
       "      <th>6</th>\n",
       "      <td>NaN</td>\n",
       "      <td>NaN</td>\n",
       "      <td>graduate student</td>\n",
       "      <td>professor</td>\n",
       "      <td>other r1</td>\n",
       "      <td>male</td>\n",
       "      <td>professor of graduate course made sexual jokes...</td>\n",
       "      <td>NaN</td>\n",
       "      <td>NaN</td>\n",
       "      <td>NaN</td>\n",
       "      <td>told i could pursue sexual harassment charges ...</td>\n",
       "      <td>none</td>\n",
       "    </tr>\n",
       "    <tr>\n",
       "      <th>7</th>\n",
       "      <td>iowa state university</td>\n",
       "      <td>physics</td>\n",
       "      <td>grad student</td>\n",
       "      <td>tenured professor and on degree committee</td>\n",
       "      <td>other r1</td>\n",
       "      <td>male</td>\n",
       "      <td>it did not happen to me, but was passed down b...</td>\n",
       "      <td>impacted my ability to get help and be successful</td>\n",
       "      <td>NaN</td>\n",
       "      <td>i did not go to him for help when i struggled ...</td>\n",
       "      <td>NaN</td>\n",
       "      <td>NaN</td>\n",
       "    </tr>\n",
       "    <tr>\n",
       "      <th>8</th>\n",
       "      <td>NaN</td>\n",
       "      <td>sociology</td>\n",
       "      <td>abd</td>\n",
       "      <td>department chair</td>\n",
       "      <td>other r1</td>\n",
       "      <td>male</td>\n",
       "      <td>sexual harassment (unwanted touching and comme...</td>\n",
       "      <td>NaN</td>\n",
       "      <td>made pregnancy and degree completion very diff...</td>\n",
       "      <td>none of job outcomes; shaped my view of academia</td>\n",
       "      <td>dean told me to \"grow a thicker skin</td>\n",
       "      <td>none</td>\n",
       "    </tr>\n",
       "    <tr>\n",
       "      <th>9</th>\n",
       "      <td>western iowa tech cc</td>\n",
       "      <td>science</td>\n",
       "      <td>instructor</td>\n",
       "      <td>students</td>\n",
       "      <td>other type of school</td>\n",
       "      <td>male</td>\n",
       "      <td>male students locked me in a supply closet</td>\n",
       "      <td>i am never teaching again</td>\n",
       "      <td>i have ptsd from it</td>\n",
       "      <td>i quit teaching and went back to grad school</td>\n",
       "      <td>never told</td>\n",
       "      <td>i passed them all</td>\n",
       "    </tr>\n",
       "  </tbody>\n",
       "</table>\n",
       "</div>"
      ],
      "text/plain": [
       "                                         institution  \\\n",
       "0                                                NaN   \n",
       "1  york university in toronto and university of l...   \n",
       "2                                                NaN   \n",
       "3                                                NaN   \n",
       "4                             university of nebraska   \n",
       "5                                       um-st. louis   \n",
       "6                                                NaN   \n",
       "7                              iowa state university   \n",
       "8                                                NaN   \n",
       "9                               western iowa tech cc   \n",
       "\n",
       "                      field  \\\n",
       "0                   history   \n",
       "1                   history   \n",
       "2                   history   \n",
       "3                   history   \n",
       "4  rhetoric and composition   \n",
       "5                   physics   \n",
       "6                       NaN   \n",
       "7                   physics   \n",
       "8                 sociology   \n",
       "9                   science   \n",
       "\n",
       "                                            position  \\\n",
       "0                                                 22   \n",
       "1                    phd student/assistant professor   \n",
       "2                                assistant professor   \n",
       "3                       visiting assistant professor   \n",
       "4  adjunct instructor with half time appointment ...   \n",
       "5                                       undergrad ta   \n",
       "6                                   graduate student   \n",
       "7                                       grad student   \n",
       "8                                                abd   \n",
       "9                                         instructor   \n",
       "\n",
       "                                       position_perp  \\\n",
       "0  senior grad student, someone who was about to ...   \n",
       "1      at least associate, if not full at that point   \n",
       "2                                     full professor   \n",
       "3     they were a tenured prof at another university   \n",
       "4  same. he was a colleague with identical appoin...   \n",
       "5                                     random student   \n",
       "6                                          professor   \n",
       "7          tenured professor and on degree committee   \n",
       "8                                   department chair   \n",
       "9                                           students   \n",
       "\n",
       "                                    institution_type gender_harasser  \\\n",
       "0                                           other r1            male   \n",
       "1  more than one institution (feel free to elabor...            male   \n",
       "2  more than one institution (feel free to elabor...            male   \n",
       "3  more than one institution (feel free to elabor...            male   \n",
       "4                                           other r1            male   \n",
       "5                                                 r2            male   \n",
       "6                                           other r1            male   \n",
       "7                                           other r1            male   \n",
       "8                                           other r1            male   \n",
       "9                               other type of school            male   \n",
       "\n",
       "                                         description  \\\n",
       "0  there were rumors (unsubstantiated, just gossi...   \n",
       "1  when i was in grad school a male faculty membe...   \n",
       "2  a senior colleague made overt sexual comments ...   \n",
       "3  kissed on the mouth in front of entire board o...   \n",
       "4  stalked, harassed, threatened by a colleague w...   \n",
       "5  an email detailing sadomasochistic acts being ...   \n",
       "6  professor of graduate course made sexual jokes...   \n",
       "7  it did not happen to me, but was passed down b...   \n",
       "8  sexual harassment (unwanted touching and comme...   \n",
       "9         male students locked me in a supply closet   \n",
       "\n",
       "                                   impact_trajectory  \\\n",
       "0  makes me more aware of my status and position ...   \n",
       "1                                                NaN   \n",
       "2                                                NaN   \n",
       "3  i left academia, not because of this incident ...   \n",
       "4  again, inestimable. entirely undid my career t...   \n",
       "5                                                NaN   \n",
       "6                                                NaN   \n",
       "7  impacted my ability to get help and be successful   \n",
       "8                                                NaN   \n",
       "9                          i am never teaching again   \n",
       "\n",
       "                                impact_mental_health  \\\n",
       "0                                          see above   \n",
       "1  it is one more thing i have to think about, wo...   \n",
       "2                                                NaN   \n",
       "3  i was mostly annoyed, not scarred, but it made...   \n",
       "4  impossible to assess. worst thing that has eve...   \n",
       "5                      random emails make me nervous   \n",
       "6                                                NaN   \n",
       "7                                                NaN   \n",
       "8  made pregnancy and degree completion very diff...   \n",
       "9                                i have ptsd from it   \n",
       "\n",
       "                                       impact_career  \\\n",
       "0         just self doubt (yay for impostor syndrome   \n",
       "1  as a phd student i learned that when senior me...   \n",
       "2        the harasser also later plagiarized my work   \n",
       "3  no longer wished to be part of that profession...   \n",
       "4  i was subsequently rif'd and did not work for ...   \n",
       "5                                                NaN   \n",
       "6                                                NaN   \n",
       "7  i did not go to him for help when i struggled ...   \n",
       "8   none of job outcomes; shaped my view of academia   \n",
       "9       i quit teaching and went back to grad school   \n",
       "\n",
       "                                  institute_response  \\\n",
       "0  none; i didn’t realize how insulting it was un...   \n",
       "1                                               none   \n",
       "2                                               none   \n",
       "3                                               none   \n",
       "4  after i filed an eeoc claim i was placed under...   \n",
       "5  “you don’t want to spoil this nice young man’s...   \n",
       "6  told i could pursue sexual harassment charges ...   \n",
       "7                                                NaN   \n",
       "8               dean told me to \"grow a thicker skin   \n",
       "9                                         never told   \n",
       "\n",
       "                               consequences_harasser  \n",
       "0                                               none  \n",
       "1                                               none  \n",
       "2                                               none  \n",
       "3                                               none  \n",
       "4                                               none  \n",
       "5  he was told to go back to his home institution...  \n",
       "6                                               none  \n",
       "7                                                NaN  \n",
       "8                                               none  \n",
       "9                                  i passed them all  "
      ]
     },
     "execution_count": 4,
     "metadata": {},
     "output_type": "execute_result"
    }
   ],
   "source": [
    "data = pd.read_csv('./data/clean.csv', index_col=0)\n",
    "data.head(10)"
   ]
  },
  {
   "cell_type": "markdown",
   "metadata": {},
   "source": [
    "# Location of responses"
   ]
  },
  {
   "cell_type": "code",
   "execution_count": 5,
   "metadata": {},
   "outputs": [
    {
     "data": {
      "text/plain": [
       "<matplotlib.axes._subplots.AxesSubplot at 0x7f5ed9841748>"
      ]
     },
     "execution_count": 5,
     "metadata": {},
     "output_type": "execute_result"
    },
    {
     "data": {
      "image/png": "[encoded data removed]",
      "text/plain": [
       "<matplotlib.figure.Figure at 0x7f5ed986aac8>"
      ]
     },
     "metadata": {},
     "output_type": "display_data"
    }
   ],
   "source": [
    "locations = data['institution'].value_counts()\n",
    "locations.iloc[:N_PLOT].plot.bar(figsize=(10, 5))"
   ]
  },
  {
   "cell_type": "markdown",
   "metadata": {},
   "source": [
    "# Distribution of fields"
   ]
  },
  {
   "cell_type": "code",
   "execution_count": 6,
   "metadata": {},
   "outputs": [
    {
     "data": {
      "text/plain": [
       "<matplotlib.axes._subplots.AxesSubplot at 0x7f5ed9ff39b0>"
      ]
     },
     "execution_count": 6,
     "metadata": {},
     "output_type": "execute_result"
    },
    {
     "data": {
      "image/png": "[encoded data removed]",
      "text/plain": [
       "<matplotlib.figure.Figure at 0x7f5eda016be0>"
      ]
     },
     "metadata": {},
     "output_type": "display_data"
    }
   ],
   "source": [
    "data['field'].value_counts().iloc[:N_PLOT].plot.bar(figsize=(10, 5))"
   ]
  },
  {
   "cell_type": "markdown",
   "metadata": {},
   "source": [
    "# Gender of the harasser"
   ]
  },
  {
   "cell_type": "code",
   "execution_count": 7,
   "metadata": {},
   "outputs": [
    {
     "data": {
      "text/plain": [
       "<matplotlib.axes._subplots.AxesSubplot at 0x7f5ed9eea2b0>"
      ]
     },
     "execution_count": 7,
     "metadata": {},
     "output_type": "execute_result"
    },
    {
     "data": {
      "image/png": "[encoded data removed]",
      "text/plain": [
       "<matplotlib.figure.Figure at 0x7f5ed9f0a940>"
      ]
     },
     "metadata": {},
     "output_type": "display_data"
    }
   ],
   "source": [
    "data['gender_harasser'].value_counts().iloc[:2].plot.bar()"
   ]
  },
  {
   "cell_type": "markdown",
   "metadata": {},
   "source": [
    "# Consequences for the harasser :-("
   ]
  },
  {
   "cell_type": "code",
   "execution_count": 8,
   "metadata": {},
   "outputs": [
    {
     "data": {
      "image/png": "[encoded data removed]",
      "text/plain": [
       "<matplotlib.figure.Figure at 0x7f5ed9eea588>"
      ]
     },
     "metadata": {},
     "output_type": "display_data"
    }
   ],
   "source": [
    "ax = data['consequences_harasser'].value_counts().iloc[:10].plot.bar(figsize=(10, 5))\n",
    "ax.set(ylabel='Number of Respondents', xlabel=\"Response\", title=\"What were the institutional consequences for your harasser?\");"
   ]
  },
  {
   "cell_type": "code",
   "execution_count": null,
   "metadata": {},
   "outputs": [],
   "source": []
  }
 ],
 "metadata": {
  "kernelspec": {
   "display_name": "Python 3",
   "language": "python",
   "name": "python3"
  },
  "language_info": {
   "codemirror_mode": {
    "name": "ipython",
    "version": 3
   },
   "file_extension": ".py",
   "mimetype": "text/x-python",
   "name": "python",
   "nbconvert_exporter": "python",
   "pygments_lexer": "ipython3",
   "version": "3.6.2"
  }
 },
 "nbformat": 4,
 "nbformat_minor": 2
}
